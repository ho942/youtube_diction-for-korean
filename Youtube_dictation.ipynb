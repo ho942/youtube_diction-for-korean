{
  "cells": [
    {
      "cell_type": "code",
      "execution_count": null,
      "metadata": {
        "id": "ihkDmEjDrACx"
      },
      "outputs": [],
      "source": [
        "# This code should be used in Google colab\n",
        "# you can dictate english from Youtube link that you have url.\n",
        "# you can input url, and file name for english and korean script.\n",
        "# the file only for enlish dictation is saved as  \"english_dictation.txt\"\n",
        "\n",
        "!pip install -U -qq openai openai-whisper yt-dlp"
      ]
    },
    {
      "cell_type": "code",
      "execution_count": null,
      "metadata": {
        "id": "9cgOn3SdrpSF"
      },
      "outputs": [],
      "source": [
        "from yt_dlp import YoutubeDL"
      ]
    },
    {
      "cell_type": "code",
      "execution_count": null,
      "metadata": {
        "colab": {
          "base_uri": "https://localhost:8080/"
        },
        "id": "ZB0cSm4Jr9dc",
        "outputId": "112cec33-f001-457b-e78b-19f6f0a65904"
      },
      "outputs": [],
      "source": [
        "yt_url = input('url  :')\n",
        "#Enter YouTube URL"
      ]
    },
    {
      "cell_type": "code",
      "execution_count": null,
      "metadata": {
        "id": "O4wCvrN2rrd1"
      },
      "outputs": [],
      "source": [
        "\n",
        "\n",
        "# Temporary file name to download only audio from YouTube\n",
        "out_fn = 'temp.mp3'"
      ]
    },
    {
      "cell_type": "code",
      "execution_count": null,
      "metadata": {
        "colab": {
          "base_uri": "https://localhost:8080/"
        },
        "id": "4hCXx2CqrsGq",
        "outputId": "0b205702-82a9-4893-eb78-760ef64f163c"
      },
      "outputs": [],
      "source": [
        "ydl_opts = {\n",
        "    'format': 'bestaudio/best', # Only audio download\n",
        "    'outtmpl': out_fn,          # Save as file name\n",
        "}\n",
        "\n",
        "with YoutubeDL(ydl_opts) as ydl:\n",
        "  ydl.download([yt_url])"
      ]
    },
    {
      "cell_type": "code",
      "execution_count": null,
      "metadata": {
        "id": "ZiEHWuIQrvE8"
      },
      "outputs": [],
      "source": [
        "# # you can check it by hearing with this code\n",
        "# from IPython.display import Audio\n",
        "\n",
        "# Audio(out_fn, autoplay=True)"
      ]
    },
    {
      "cell_type": "code",
      "execution_count": null,
      "metadata": {
        "id": "7PSziSNfrv9o"
      },
      "outputs": [],
      "source": [
        "import whisper\n",
        "# for sound recognition"
      ]
    },
    {
      "cell_type": "code",
      "execution_count": null,
      "metadata": {
        "id": "aZYwFsf9ryEs"
      },
      "outputs": [],
      "source": [
        "model = whisper.load_model('base')     \n",
        "# Load the Whisper model\n",
        "# model = model.to('cuda')"
      ]
    },
    {
      "cell_type": "code",
      "execution_count": null,
      "metadata": {
        "colab": {
          "base_uri": "https://localhost:8080/",
          "height": 256
        },
        "id": "aryShsi0ryjw",
        "outputId": "5a29af2d-4624-49ba-9f6f-77c17556e913"
      },
      "outputs": [],
      "source": [
        "result = model.transcribe(out_fn)       # Dictate the audio file (out_fn) received from Youtube\n",
        "news_script = result['text']            # Save your dictation\n",
        "news_script"
      ]
    },
    {
      "cell_type": "code",
      "execution_count": null,
      "metadata": {
        "id": "ymZShehQrzLV"
      },
      "outputs": [],
      "source": [
        "\n",
        "filename = \"english_dictation.txt\"  # filename to save\n",
        "\n",
        "with open(filename, 'w') as f:\n",
        "    f.write(news_script)\n",
        "# this file is for only english"
      ]
    },
    {
      "cell_type": "code",
      "execution_count": null,
      "metadata": {
        "colab": {
          "base_uri": "https://localhost:8080/",
          "height": 997
        },
        "id": "UAJgda1JuH5x",
        "outputId": "f09df4d5-c599-4721-ad2d-bd0dc0ca6ea7"
      },
      "outputs": [],
      "source": [
        "!pip install googletrans==4.0.0-rc1\n",
        "\n",
        "#An api developed and distributed by individuals as open source from pipy"
      ]
    },
    {
      "cell_type": "code",
      "execution_count": null,
      "metadata": {
        "colab": {
          "base_uri": "https://localhost:8080/"
        },
        "id": "fjCn-LJtt-Ew",
        "outputId": "e386266d-496a-48fd-9847-5824d8b3df53"
      },
      "outputs": [],
      "source": [
        "import re\n",
        "from googletrans import Translator\n",
        "\n",
        "\n",
        "# Create a client for translation\n",
        "translator = Translator()\n",
        "\n",
        "def translate_sentences(sentences, dest_lang='en'):\n",
        "    result = []\n",
        "    for sentence in sentences:\n",
        "        try:\n",
        "            #  translation\n",
        "            translated_text = translator.translate(sentence, dest=dest_lang).text\n",
        "            result.append(translated_text)\n",
        "        except:\n",
        "            # If the translation fails, add the original text\n",
        "            result.append(sentence)\n",
        "    return result\n",
        "\n",
        "def split_text_into_sentences(text):\n",
        "    # Regular expression pattern for splitting sentences using punctuation marks\n",
        "    pattern = re.compile(r'[\\w\\W]+?[.?!](?=\\s|$)')\n",
        "    results = pattern.findall(text)\n",
        "    return results\n",
        "\n",
        "# text for testing\n",
        "sample_text = news_script\n",
        "\n",
        "# Split text into sentences\n",
        "sentences = split_text_into_sentences(sample_text)\n",
        "\n",
        "# sentence translation\n",
        "translated_sentences = translate_sentences(sentences, dest_lang='ko')\n",
        "\n",
        "# # result output\n",
        "# for idx, sentence in enumerate(translated_sentences):\n",
        "#     print(f\"Sentence {idx+1}:\")\n",
        "#     print(sentences[idx])\n",
        "#     print(sentence)\n",
        "#     print(\"---\")"
      ]
    },
    {
      "cell_type": "code",
      "execution_count": null,
      "metadata": {
        "id": "_vV_dMeEt-l4"
      },
      "outputs": [],
      "source": [
        "# result collect\n",
        "translated_pages = []\n",
        "for idx, sentence in enumerate(translated_sentences):\n",
        "    translated_pages.append(f\"Sentence {idx+1}:\")\n",
        "    translated_pages.append(sentences[idx])\n",
        "    translated_pages.append(sentence)\n",
        "    translated_pages.append(\"---\")\n",
        "\n",
        "#\n",
        "f_name = input('file name : ')\n",
        "\n",
        "# save it as file\n",
        "target_file = open(f_name, \"w\", encoding=\"UTF-8\")\n",
        "target_file.write(\"\\n\".join(translated_pages))\n",
        "target_file.close()\n",
        "\n",
        "# result output\n",
        "print('\\n'.join(translated_pages))"
      ]
    },
    {
      "cell_type": "code",
      "execution_count": null,
      "metadata": {},
      "outputs": [],
      "source": [
        "# now delete the mp3 file because we don't need it anymore.\n",
        "# if you want to save the file, then you don't need to use following codes.\n",
        "\n",
        "import os\n",
        "\n",
        "# File path and name to delete\n",
        "file_path = out_fn\n",
        "\n",
        "try:\n",
        "    # delete file\n",
        "    os.remove(file_path)\n",
        "    \n",
        "    # Output when deletion is successful\n",
        "    print(f\"{file_path} file has been deleted.\")\n",
        "except FileNotFoundError:\n",
        "    # Exception handling when file does not exist\n",
        "    print(f\"{file_path} file does not exist.\")\n",
        "except Exception as e:\n",
        "    # Outputs other exceptions when they occur\n",
        "    print(f\"An error occurred while deleting the file: {e}\")"
      ]
    }
  ],
  "metadata": {
    "colab": {
      "provenance": []
    },
    "kernelspec": {
      "display_name": "Python 3",
      "name": "python3"
    },
    "language_info": {
      "name": "python"
    }
  },
  "nbformat": 4,
  "nbformat_minor": 0
}
