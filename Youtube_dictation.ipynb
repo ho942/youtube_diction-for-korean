{
  "nbformat": 4,
  "nbformat_minor": 0,
  "metadata": {
    "colab": {
      "provenance": []
    },
    "kernelspec": {
      "name": "python3",
      "display_name": "Python 3"
    },
    "language_info": {
      "name": "python"
    }
  },
  "cells": [
    {
      "cell_type": "code",
      "execution_count": 17,
      "metadata": {
        "id": "ihkDmEjDrACx"
      },
      "outputs": [],
      "source": [
        "!pip install -U -qq openai openai-whisper yt-dlp"
      ]
    },
    {
      "cell_type": "code",
      "source": [
        "from yt_dlp import YoutubeDL"
      ],
      "metadata": {
        "id": "9cgOn3SdrpSF"
      },
      "execution_count": 18,
      "outputs": []
    },
    {
      "cell_type": "code",
      "source": [
        "yt_url = input('url  :')"
      ],
      "metadata": {
        "colab": {
          "base_uri": "https://localhost:8080/"
        },
        "id": "ZB0cSm4Jr9dc",
        "outputId": "112cec33-f001-457b-e78b-19f6f0a65904"
      },
      "execution_count": 19,
      "outputs": [
        {
          "name": "stdout",
          "output_type": "stream",
          "text": [
            "url  :https://www.youtube.com/watch?v=upOz0CrkN_s\n"
          ]
        }
      ]
    },
    {
      "cell_type": "code",
      "source": [
        "# 샘플 유튜브 영상 - CNN 뉴스\n",
        "# yt_url = 'https://www.youtube.com/watch?v=upOz0CrkN_s'\n",
        "\n",
        "# 유튜브의 음성만 다운로드할 임시 파일명\n",
        "out_fn = 'temp.mp3'"
      ],
      "metadata": {
        "id": "O4wCvrN2rrd1"
      },
      "execution_count": 20,
      "outputs": []
    },
    {
      "cell_type": "code",
      "source": [
        "ydl_opts = {\n",
        "    'format': 'bestaudio/best', # Audio만 다운로드\n",
        "    'outtmpl': out_fn,          # 지정한 파일명으로 저장\n",
        "}\n",
        "\n",
        "with YoutubeDL(ydl_opts) as ydl:\n",
        "  ydl.download([yt_url])"
      ],
      "metadata": {
        "colab": {
          "base_uri": "https://localhost:8080/"
        },
        "id": "4hCXx2CqrsGq",
        "outputId": "0b205702-82a9-4893-eb78-760ef64f163c"
      },
      "execution_count": 21,
      "outputs": [
        {
          "output_type": "stream",
          "name": "stdout",
          "text": [
            "[youtube] Extracting URL: https://www.youtube.com/watch?v=upOz0CrkN_s\n",
            "[youtube] upOz0CrkN_s: Downloading webpage\n",
            "[youtube] upOz0CrkN_s: Downloading ios player API JSON\n",
            "[youtube] upOz0CrkN_s: Downloading android player API JSON\n",
            "[youtube] upOz0CrkN_s: Downloading m3u8 information\n",
            "[info] upOz0CrkN_s: Downloading 1 format(s): 251\n",
            "[download] temp.mp3 has already been downloaded\n",
            "[download] 100% of    1.58MiB\n"
          ]
        }
      ]
    },
    {
      "cell_type": "code",
      "source": [
        "!ls -alF"
      ],
      "metadata": {
        "colab": {
          "base_uri": "https://localhost:8080/"
        },
        "id": "m-_uuqP8rt_t",
        "outputId": "2ae659cf-e9ec-4f21-d54a-4bbc3f6ba1a2"
      },
      "execution_count": 22,
      "outputs": [
        {
          "output_type": "stream",
          "name": "stdout",
          "text": [
            "total 1644\n",
            "drwxr-xr-x 1 root root    4096 Aug  6 02:36 ./\n",
            "drwxr-xr-x 1 root root    4096 Aug  6 02:32 ../\n",
            "drwxr-xr-x 4 root root    4096 Aug  3 13:44 .config/\n",
            "-rw-r--r-- 1 root root    2097 Aug  6 02:36 my_text.txt\n",
            "drwxr-xr-x 1 root root    4096 Aug  3 13:45 sample_data/\n",
            "-rw-r--r-- 1 root root 1660721 Apr 24 05:08 temp.mp3\n"
          ]
        }
      ]
    },
    {
      "cell_type": "code",
      "source": [
        "# # 한 번 들어보기\n",
        "# from IPython.display import Audio\n",
        "\n",
        "# Audio(out_fn, autoplay=True)"
      ],
      "metadata": {
        "id": "ZiEHWuIQrvE8"
      },
      "execution_count": 23,
      "outputs": []
    },
    {
      "cell_type": "code",
      "source": [
        "import whisper"
      ],
      "metadata": {
        "id": "7PSziSNfrv9o"
      },
      "execution_count": 24,
      "outputs": []
    },
    {
      "cell_type": "code",
      "source": [
        "model = whisper.load_model('base')      # Whisper 모델을 불러오기\n",
        "# model = model.to('cuda')"
      ],
      "metadata": {
        "id": "aZYwFsf9ryEs"
      },
      "execution_count": 25,
      "outputs": []
    },
    {
      "cell_type": "code",
      "source": [
        "result = model.transcribe(out_fn)       # Youtube에서 받은 음성 파일(out_fn)을 받아쓰기\n",
        "news_script = result['text']            # 받아쓰기 한 내용 저장\n",
        "news_script"
      ],
      "metadata": {
        "colab": {
          "base_uri": "https://localhost:8080/",
          "height": 256
        },
        "id": "aryShsi0ryjw",
        "outputId": "5a29af2d-4624-49ba-9f6f-77c17556e913"
      },
      "execution_count": 26,
      "outputs": [
        {
          "output_type": "stream",
          "name": "stderr",
          "text": [
            "/usr/local/lib/python3.10/dist-packages/whisper/transcribe.py:114: UserWarning: FP16 is not supported on CPU; using FP32 instead\n",
            "  warnings.warn(\"FP16 is not supported on CPU; using FP32 instead\")\n"
          ]
        },
        {
          "output_type": "execute_result",
          "data": {
            "text/plain": [
              "\" Cut on camera. Flames erupting from a plane heading to the valley. You know, a lot of people closing their eyes and trying to text their loved ones. It was a little scary the flight. While trying to get home to Phoenix from Columbus, Ohio, both Greg Carfania and Tyler Tuckness were passengers on American Airlines flight 1958 Sunday morning. You need to read that many, reading the phone. Disaster struck the plane shortly after takeoff. There was a like a bank came from the right side of the airplane. You could see where the bird hit. Um, it wasn't all that pleasant. Flames could be seen erupting from the engine on the right side. The sounds of loud popping filling the cabin. Even those on the ground could see and hear the fiery scene as the plane flew overhead. The whole time I was fairly confident. But it was definitely scary. Like you don't know what's going to happen for sure. Despite the scary situation both Carfania and Tuckness say that those on board had faith in the pilots as they had to turn back to the Columbus airport. Everyone was pretty good spirits and of course when we landed everyone cheered and uh, you know, thank in the pilots and the flight attendants. We all kind of, we try to keep it light. We're definitely some jokes going around about it. American Airlines releasing this statement. The flight landed normally in taxi safely to the gate under its own power. The aircraft was taken out of service for maintenance. The airline going on to say safety is our top priority and we thank our customers for their understanding. Sky Harbor's baggage claim was full of hugs and smiles as the new flight 1958 landed in the afternoon with everyone glad to be back home. It was all good but very scary. It's definitely been a very long day for sure. It's nice to be home. So the FAA is currently investigating and if you're wondering just how often bird strikes happen according to the FAA, they happen about 13,000 times a year to American aircraft alone with only less than 1% causing significant damage. Am I going to Emma? All right, Steven, Siravia, live for us.\""
            ],
            "application/vnd.google.colaboratory.intrinsic+json": {
              "type": "string"
            }
          },
          "metadata": {},
          "execution_count": 26
        }
      ]
    },
    {
      "cell_type": "code",
      "source": [
        "#wrtn한테  특정 변수에 있는 텍스트를 .txt 파일로 저장하는 코드를 파이썬으로 작성 라고 물어본 결과 이용.\n",
        "filename = \"my_text.txt\"  # 저장할 파일 이름\n",
        "\n",
        "with open(filename, 'w') as f:\n",
        "    f.write(news_script)"
      ],
      "metadata": {
        "id": "ymZShehQrzLV"
      },
      "execution_count": 27,
      "outputs": []
    },
    {
      "cell_type": "code",
      "source": [
        "!pip install googletrans==4.0.0-rc1\n",
        "#pipy에서 개인이 오픈소스로 만들어서 배포하는 api임."
      ],
      "metadata": {
        "colab": {
          "base_uri": "https://localhost:8080/",
          "height": 997
        },
        "id": "UAJgda1JuH5x",
        "outputId": "f09df4d5-c599-4721-ad2d-bd0dc0ca6ea7"
      },
      "execution_count": 16,
      "outputs": [
        {
          "output_type": "stream",
          "name": "stdout",
          "text": [
            "Collecting googletrans==4.0.0-rc1\n",
            "  Downloading googletrans-4.0.0rc1.tar.gz (20 kB)\n",
            "  Preparing metadata (setup.py) ... \u001b[?25l\u001b[?25hdone\n",
            "Collecting httpx==0.13.3 (from googletrans==4.0.0-rc1)\n",
            "  Downloading httpx-0.13.3-py3-none-any.whl (55 kB)\n",
            "\u001b[2K     \u001b[90m━━━━━━━━━━━━━━━━━━━━━━━━━━━━━━━━━━━━━━━━\u001b[0m \u001b[32m55.1/55.1 kB\u001b[0m \u001b[31m1.7 MB/s\u001b[0m eta \u001b[36m0:00:00\u001b[0m\n",
            "\u001b[?25hRequirement already satisfied: certifi in /usr/local/lib/python3.10/dist-packages (from httpx==0.13.3->googletrans==4.0.0-rc1) (2023.7.22)\n",
            "Collecting hstspreload (from httpx==0.13.3->googletrans==4.0.0-rc1)\n",
            "  Downloading hstspreload-2023.1.1-py3-none-any.whl (1.5 MB)\n",
            "\u001b[2K     \u001b[90m━━━━━━━━━━━━━━━━━━━━━━━━━━━━━━━━━━━━━━━━\u001b[0m \u001b[32m1.5/1.5 MB\u001b[0m \u001b[31m7.7 MB/s\u001b[0m eta \u001b[36m0:00:00\u001b[0m\n",
            "\u001b[?25hRequirement already satisfied: sniffio in /usr/local/lib/python3.10/dist-packages (from httpx==0.13.3->googletrans==4.0.0-rc1) (1.3.0)\n",
            "Collecting chardet==3.* (from httpx==0.13.3->googletrans==4.0.0-rc1)\n",
            "  Downloading chardet-3.0.4-py2.py3-none-any.whl (133 kB)\n",
            "\u001b[2K     \u001b[90m━━━━━━━━━━━━━━━━━━━━━━━━━━━━━━━━━━━━━━\u001b[0m \u001b[32m133.4/133.4 kB\u001b[0m \u001b[31m10.9 MB/s\u001b[0m eta \u001b[36m0:00:00\u001b[0m\n",
            "\u001b[?25hCollecting idna==2.* (from httpx==0.13.3->googletrans==4.0.0-rc1)\n",
            "  Downloading idna-2.10-py2.py3-none-any.whl (58 kB)\n",
            "\u001b[2K     \u001b[90m━━━━━━━━━━━━━━━━━━━━━━━━━━━━━━━━━━━━━━━━\u001b[0m \u001b[32m58.8/58.8 kB\u001b[0m \u001b[31m7.1 MB/s\u001b[0m eta \u001b[36m0:00:00\u001b[0m\n",
            "\u001b[?25hCollecting rfc3986<2,>=1.3 (from httpx==0.13.3->googletrans==4.0.0-rc1)\n",
            "  Downloading rfc3986-1.5.0-py2.py3-none-any.whl (31 kB)\n",
            "Collecting httpcore==0.9.* (from httpx==0.13.3->googletrans==4.0.0-rc1)\n",
            "  Downloading httpcore-0.9.1-py3-none-any.whl (42 kB)\n",
            "\u001b[2K     \u001b[90m━━━━━━━━━━━━━━━━━━━━━━━━━━━━━━━━━━━━━━━━\u001b[0m \u001b[32m42.6/42.6 kB\u001b[0m \u001b[31m4.6 MB/s\u001b[0m eta \u001b[36m0:00:00\u001b[0m\n",
            "\u001b[?25hCollecting h11<0.10,>=0.8 (from httpcore==0.9.*->httpx==0.13.3->googletrans==4.0.0-rc1)\n",
            "  Downloading h11-0.9.0-py2.py3-none-any.whl (53 kB)\n",
            "\u001b[2K     \u001b[90m━━━━━━━━━━━━━━━━━━━━━━━━━━━━━━━━━━━━━━━━\u001b[0m \u001b[32m53.6/53.6 kB\u001b[0m \u001b[31m5.0 MB/s\u001b[0m eta \u001b[36m0:00:00\u001b[0m\n",
            "\u001b[?25hCollecting h2==3.* (from httpcore==0.9.*->httpx==0.13.3->googletrans==4.0.0-rc1)\n",
            "  Downloading h2-3.2.0-py2.py3-none-any.whl (65 kB)\n",
            "\u001b[2K     \u001b[90m━━━━━━━━━━━━━━━━━━━━━━━━━━━━━━━━━━━━━━━━\u001b[0m \u001b[32m65.0/65.0 kB\u001b[0m \u001b[31m7.8 MB/s\u001b[0m eta \u001b[36m0:00:00\u001b[0m\n",
            "\u001b[?25hCollecting hyperframe<6,>=5.2.0 (from h2==3.*->httpcore==0.9.*->httpx==0.13.3->googletrans==4.0.0-rc1)\n",
            "  Downloading hyperframe-5.2.0-py2.py3-none-any.whl (12 kB)\n",
            "Collecting hpack<4,>=3.0 (from h2==3.*->httpcore==0.9.*->httpx==0.13.3->googletrans==4.0.0-rc1)\n",
            "  Downloading hpack-3.0.0-py2.py3-none-any.whl (38 kB)\n",
            "Building wheels for collected packages: googletrans\n",
            "  Building wheel for googletrans (setup.py) ... \u001b[?25l\u001b[?25hdone\n",
            "  Created wheel for googletrans: filename=googletrans-4.0.0rc1-py3-none-any.whl size=17397 sha256=a4193f98a28c76c0a34f1899eb6b15de56372feb4f878c196aef42d533e0b612\n",
            "  Stored in directory: /root/.cache/pip/wheels/c0/59/9f/7372f0cf70160fe61b528532e1a7c8498c4becd6bcffb022de\n",
            "Successfully built googletrans\n",
            "Installing collected packages: rfc3986, hyperframe, hpack, h11, chardet, idna, hstspreload, h2, httpcore, httpx, googletrans\n",
            "  Attempting uninstall: chardet\n",
            "    Found existing installation: chardet 4.0.0\n",
            "    Uninstalling chardet-4.0.0:\n",
            "      Successfully uninstalled chardet-4.0.0\n",
            "  Attempting uninstall: idna\n",
            "    Found existing installation: idna 3.4\n",
            "    Uninstalling idna-3.4:\n",
            "      Successfully uninstalled idna-3.4\n",
            "Successfully installed chardet-3.0.4 googletrans-4.0.0rc1 h11-0.9.0 h2-3.2.0 hpack-3.0.0 hstspreload-2023.1.1 httpcore-0.9.1 httpx-0.13.3 hyperframe-5.2.0 idna-2.10 rfc3986-1.5.0\n"
          ]
        },
        {
          "output_type": "display_data",
          "data": {
            "application/vnd.colab-display-data+json": {
              "pip_warning": {
                "packages": [
                  "chardet",
                  "idna"
                ]
              }
            }
          },
          "metadata": {}
        }
      ]
    },
    {
      "cell_type": "code",
      "source": [
        "import re\n",
        "from googletrans import Translator\n",
        "\n",
        "# 번역을 위한 클라이언트 생성\n",
        "translator = Translator()\n",
        "\n",
        "def translate_sentences(sentences, dest_lang='en'):\n",
        "    result = []\n",
        "    for sentence in sentences:\n",
        "        try:\n",
        "            # 문장 번역\n",
        "            translated_text = translator.translate(sentence, dest=dest_lang).text\n",
        "            result.append(translated_text)\n",
        "        except:\n",
        "            # 번역 실패 시 원문 그대로 추가\n",
        "            result.append(sentence)\n",
        "    return result\n",
        "\n",
        "def split_text_into_sentences(text):\n",
        "    # 구두점을 이용해 문장을 나누는 정규식 패턴\n",
        "    pattern = re.compile(r'[\\w\\W]+?[.?!](?=\\s|$)')\n",
        "    results = pattern.findall(text)\n",
        "    return results\n",
        "\n",
        "# 테스트용 텍스트\n",
        "sample_text = news_script\n",
        "\n",
        "# 텍스트를 문장 단위로 분할\n",
        "sentences = split_text_into_sentences(sample_text)\n",
        "\n",
        "# 문장 번역\n",
        "translated_sentences = translate_sentences(sentences, dest_lang='ko')\n",
        "\n",
        "# 결과 출력\n",
        "for idx, sentence in enumerate(translated_sentences):\n",
        "    print(f\"Sentence {idx+1}:\")\n",
        "    print(sentences[idx])\n",
        "    print(sentence)\n",
        "    print(\"---\")"
      ],
      "metadata": {
        "colab": {
          "base_uri": "https://localhost:8080/"
        },
        "id": "fjCn-LJtt-Ew",
        "outputId": "e386266d-496a-48fd-9847-5824d8b3df53"
      },
      "execution_count": 30,
      "outputs": [
        {
          "output_type": "stream",
          "name": "stdout",
          "text": [
            "Sentence 1:\n",
            " Cut on camera.\n",
            "카메라를 자릅니다.\n",
            "---\n",
            "Sentence 2:\n",
            " Flames erupting from a plane heading to the valley.\n",
            "비행기에서 계곡으로 향하는 화염.\n",
            "---\n",
            "Sentence 3:\n",
            " You know, a lot of people closing their eyes and trying to text their loved ones.\n",
            "많은 사람들이 눈을 감고 사랑하는 사람들에게 문자를 보내려고 노력합니다.\n",
            "---\n",
            "Sentence 4:\n",
            " It was a little scary the flight.\n",
            "비행이 조금 무서웠습니다.\n",
            "---\n",
            "Sentence 5:\n",
            " While trying to get home to Phoenix from Columbus, Ohio, both Greg Carfania and Tyler Tuckness were passengers on American Airlines flight 1958 Sunday morning.\n",
            "오하이오 주 콜럼버스에서 피닉스로 돌아 가려고 노력하면서 Greg Carfania와 Tyler Tuckness는 1958 년 일요일 아침 American Airlines Flight의 승객이었습니다.\n",
            "---\n",
            "Sentence 6:\n",
            " You need to read that many, reading the phone.\n",
            "전화를 읽고 많은 것을 읽어야합니다.\n",
            "---\n",
            "Sentence 7:\n",
            " Disaster struck the plane shortly after takeoff.\n",
            "이륙 직후 재난이 비행기를 강타했습니다.\n",
            "---\n",
            "Sentence 8:\n",
            " There was a like a bank came from the right side of the airplane.\n",
            "비행기의 오른쪽에서 은행이 나온 것과 같은 것입니다.\n",
            "---\n",
            "Sentence 9:\n",
            " You could see where the bird hit.\n",
            "당신은 새가 어디에 든 것을 볼 수있었습니다.\n",
            "---\n",
            "Sentence 10:\n",
            " Um, it wasn't all that pleasant.\n",
            "음, 그다지 기분이 좋지 않았습니다.\n",
            "---\n",
            "Sentence 11:\n",
            " Flames could be seen erupting from the engine on the right side.\n",
            "오른쪽의 엔진에서 화염이 분출되는 것을 볼 수 있습니다.\n",
            "---\n",
            "Sentence 12:\n",
            " The sounds of loud popping filling the cabin.\n",
            "큰 소리로 튀어 나오는 소리가 객실을 채 웁니다.\n",
            "---\n",
            "Sentence 13:\n",
            " Even those on the ground could see and hear the fiery scene as the plane flew overhead.\n",
            "지상의 사람들조차도 비행기가 머리 위로 날아 가면서 불 같은 장면을보고들을 수있었습니다.\n",
            "---\n",
            "Sentence 14:\n",
            " The whole time I was fairly confident.\n",
            "나는 항상 자신감이 있었다.\n",
            "---\n",
            "Sentence 15:\n",
            " But it was definitely scary.\n",
            "그러나 그것은 확실히 무서웠다.\n",
            "---\n",
            "Sentence 16:\n",
            " Like you don't know what's going to happen for sure.\n",
            "당신이 확실히 무슨 일이 일어날 지 모른다.\n",
            "---\n",
            "Sentence 17:\n",
            " Despite the scary situation both Carfania and Tuckness say that those on board had faith in the pilots as they had to turn back to the Columbus airport.\n",
            "무서운 상황에도 불구하고 Carfania와 Tuckness는 탑승자들이 콜럼버스 공항으로 돌아 가야 할 때 조종사에 대한 믿음을 가졌다 고 말합니다.\n",
            "---\n",
            "Sentence 18:\n",
            " Everyone was pretty good spirits and of course when we landed everyone cheered and uh, you know, thank in the pilots and the flight attendants.\n",
            "모든 사람은 꽤 좋은 영혼이었고 물론 우리가 모든 사람들이 환호했을 때 조종사와 승무원에게 감사합니다.\n",
            "---\n",
            "Sentence 19:\n",
            " We all kind of, we try to keep it light.\n",
            "우리는 모두, 우리는 그것을 가볍게 유지하려고 노력합니다.\n",
            "---\n",
            "Sentence 20:\n",
            " We're definitely some jokes going around about it.\n",
            "우리는 분명히 그것에 대해 농담을하고 있습니다.\n",
            "---\n",
            "Sentence 21:\n",
            " American Airlines releasing this statement.\n",
            "아메리칸 항공은이 진술을 공개합니다.\n",
            "---\n",
            "Sentence 22:\n",
            " The flight landed normally in taxi safely to the gate under its own power.\n",
            "비행은 정상적으로 택시에 자체 권력하에 문에 안전하게 착륙했습니다.\n",
            "---\n",
            "Sentence 23:\n",
            " The aircraft was taken out of service for maintenance.\n",
            "항공기는 유지 보수를 위해 서비스를 중단했습니다.\n",
            "---\n",
            "Sentence 24:\n",
            " The airline going on to say safety is our top priority and we thank our customers for their understanding.\n",
            "계속해서 안전이 우리의 최우선 과제이며 고객의 이해에 감사드립니다.\n",
            "---\n",
            "Sentence 25:\n",
            " Sky Harbor's baggage claim was full of hugs and smiles as the new flight 1958 landed in the afternoon with everyone glad to be back home.\n",
            "Sky Harbor의 수하물 주장은 1958 년 오후에 새로운 비행이 착륙하여 모든 사람들이 집으로 돌아와서 기뻤습니다.\n",
            "---\n",
            "Sentence 26:\n",
            " It was all good but very scary.\n",
            "모두 좋았지 만 매우 무서웠습니다.\n",
            "---\n",
            "Sentence 27:\n",
            " It's definitely been a very long day for sure.\n",
            "확실히 매우 긴 하루였습니다.\n",
            "---\n",
            "Sentence 28:\n",
            " It's nice to be home.\n",
            "집에있는 것이 좋습니다.\n",
            "---\n",
            "Sentence 29:\n",
            " So the FAA is currently investigating and if you're wondering just how often bird strikes happen according to the FAA, they happen about 13,000 times a year to American aircraft alone with only less than 1% causing significant damage.\n",
            "따라서 FAA는 현재 조사 중이며 FAA에 따라 조류 파업이 얼마나 자주 발생하는지 궁금하다면 1% 미만의 피해를 입은 미국 항공기 만 1 년에 약 13,000 번 발생합니다.\n",
            "---\n",
            "Sentence 30:\n",
            " Am I going to Emma?\n",
            "내가 엠마에가요?\n",
            "---\n",
            "Sentence 31:\n",
            " All right, Steven, Siravia, live for us.\n",
            "스티븐, 시라비아는 우리를 위해 산다.\n",
            "---\n"
          ]
        }
      ]
    },
    {
      "cell_type": "code",
      "source": [],
      "metadata": {
        "id": "_vV_dMeEt-l4"
      },
      "execution_count": null,
      "outputs": []
    }
  ]
}